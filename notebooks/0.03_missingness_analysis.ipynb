{
 "cells": [
  {
   "cell_type": "markdown",
   "metadata": {},
   "source": [
    "# Missingness Analysis\n",
    "\n",
    "This notebook aims to understand the prevalence of missing rows in the activity data of the athletes shortlisted for further analysis (df_atheltes_final.csv). Specifically, we want to understand how common it is to find missing rows in the data as a whole and to also understand the frequency of this missingness - how frequently is a single row missing, two consecutive rows, three consecutive rows, etc. This will help inform our approach to data cleaning and imputation before further analysis."
   ]
  },
  {
   "cell_type": "markdown",
   "metadata": {},
   "source": [
    "## Downloading Data\n",
    "\n",
    "In this section, I will store the activity data of selected athletes locally to improve execution speed for future tasks."
   ]
  },
  {
   "cell_type": "code",
   "execution_count": 1,
   "metadata": {},
   "outputs": [],
   "source": [
    "# Importing requirements\n",
    "import os\n",
    "import pandas as pd\n",
    "from opendata import OpenData"
   ]
  },
  {
   "cell_type": "code",
   "execution_count": null,
   "metadata": {},
   "outputs": [
    {
     "data": {
      "text/plain": [
       "'c:\\\\Users\\\\karka\\\\Projects\\\\Golden-Cheetah'"
      ]
     },
     "execution_count": 2,
     "metadata": {},
     "output_type": "execute_result"
    }
   ],
   "source": [
    "# Change working directory\n",
    "\n",
    "os.chdir(\"..\")\n",
    "os.getcwd()"
   ]
  },
  {
   "cell_type": "code",
   "execution_count": null,
   "metadata": {},
   "outputs": [],
   "source": [
    "# Load csv as dataframe\n",
    "\n",
    "df = pd.read_csv(r\"data\\interim\\df_athletes_final.csv\")"
   ]
  },
  {
   "cell_type": "code",
   "execution_count": null,
   "metadata": {},
   "outputs": [],
   "source": [
    "from concurrent.futures import ThreadPoolExecutor\n",
    "\n",
    "od = OpenData()\n",
    "\n",
    "\n",
    "def fetch_and_store(athlete_id):\n",
    "    od.get_remote_athlete(athlete_id).store_locally()\n",
    "\n",
    "\n",
    "# Using threading to speed up API calls\n",
    "with ThreadPoolExecutor() as executor:\n",
    "    executor.map(fetch_and_store, df[\"id\"])"
   ]
  },
  {
   "cell_type": "markdown",
   "metadata": {},
   "source": [
    "# Analysing Missingness\n",
    "\n",
    "This section will open 10 randomly selected bike rides from each shortlisted athlete and calculate missingness."
   ]
  },
  {
   "cell_type": "code",
   "execution_count": 5,
   "metadata": {},
   "outputs": [],
   "source": [
    "# DELETE LATER\n",
    "od = OpenData()"
   ]
  },
  {
   "cell_type": "code",
   "execution_count": null,
   "metadata": {},
   "outputs": [],
   "source": [
    "import pandas as pd\n",
    "import random\n",
    "\n",
    "# Setting the random seed for reproducibility\n",
    "random.seed(42)\n",
    "\n",
    "# Initialise a list to collect DataFrames\n",
    "df_list = []\n",
    "\n",
    "# Loop through each athlete ID\n",
    "for athlete_id in df[\"id\"]:\n",
    "    # Retrieve athlete and their activities\n",
    "    athlete = od.get_local_athlete(athlete_id)\n",
    "    activities = list(athlete.activities())\n",
    "\n",
    "    # Filter activities to include only those where the sport is 'Bike'\n",
    "    cycling_activities = [\n",
    "        activity for activity in activities if activity.metadata.get(\"sport\") == \"Bike\"\n",
    "    ]\n",
    "\n",
    "    # Select 10 random bike rides from cycling_activities\n",
    "    sample_activities = random.sample(cycling_activities, 10)\n",
    "\n",
    "    # Analyze missingness in each ride in the sample\n",
    "    for ride in sample_activities:\n",
    "        data_df = ride.data\n",
    "\n",
    "        # Calculate time delta in the 'secs' column and check for missingness\n",
    "        data_df[\"deltaSecs\"] = data_df[\"secs\"].diff()\n",
    "        data_df[\"missingRows\"] = data_df[\"deltaSecs\"] - 1\n",
    "\n",
    "        # Create a missingness DataFrame\n",
    "        df_activity_missingness = (\n",
    "            data_df[\"missingRows\"].value_counts().sort_index().reset_index()\n",
    "        )\n",
    "        df_activity_missingness.columns = [\"missingSeconds\", \"frequency\"]\n",
    "\n",
    "        # Add DataFrame length, athlete ID, and activity date to the DataFrame\n",
    "        df_activity_missingness[\"totalSeconds\"] = int(data_df[\"secs\"].iloc[-1])\n",
    "        df_activity_missingness[\"athleteID\"] = athlete_id\n",
    "        df_activity_missingness[\"activityDate\"] = ride.metadata[\"date\"]\n",
    "\n",
    "        # Append the DataFrame to the list\n",
    "        df_list.append(df_activity_missingness)\n",
    "\n",
    "# Concatenate all DataFrames in the list into a single DataFrame\n",
    "df_missingness = pd.concat(df_list, ignore_index=True)"
   ]
  },
  {
   "cell_type": "code",
   "execution_count": 11,
   "metadata": {},
   "outputs": [
    {
     "data": {
      "text/html": [
       "<div>\n",
       "<style scoped>\n",
       "    .dataframe tbody tr th:only-of-type {\n",
       "        vertical-align: middle;\n",
       "    }\n",
       "\n",
       "    .dataframe tbody tr th {\n",
       "        vertical-align: top;\n",
       "    }\n",
       "\n",
       "    .dataframe thead th {\n",
       "        text-align: right;\n",
       "    }\n",
       "</style>\n",
       "<table border=\"1\" class=\"dataframe\">\n",
       "  <thead>\n",
       "    <tr style=\"text-align: right;\">\n",
       "      <th></th>\n",
       "      <th>missingSeconds</th>\n",
       "      <th>frequency</th>\n",
       "      <th>totalSeconds</th>\n",
       "      <th>athleteID</th>\n",
       "      <th>activityDate</th>\n",
       "    </tr>\n",
       "  </thead>\n",
       "  <tbody>\n",
       "    <tr>\n",
       "      <th>0</th>\n",
       "      <td>0.0</td>\n",
       "      <td>4149</td>\n",
       "      <td>4149</td>\n",
       "      <td>75119381-8969-4cfe-8c31-f21ce0f7ae3a</td>\n",
       "      <td>2019/11/02 12:45:00 UTC</td>\n",
       "    </tr>\n",
       "    <tr>\n",
       "      <th>1</th>\n",
       "      <td>0.0</td>\n",
       "      <td>6525</td>\n",
       "      <td>7442</td>\n",
       "      <td>75119381-8969-4cfe-8c31-f21ce0f7ae3a</td>\n",
       "      <td>2019/05/24 17:44:00 UTC</td>\n",
       "    </tr>\n",
       "    <tr>\n",
       "      <th>2</th>\n",
       "      <td>27.0</td>\n",
       "      <td>1</td>\n",
       "      <td>7442</td>\n",
       "      <td>75119381-8969-4cfe-8c31-f21ce0f7ae3a</td>\n",
       "      <td>2019/05/24 17:44:00 UTC</td>\n",
       "    </tr>\n",
       "    <tr>\n",
       "      <th>3</th>\n",
       "      <td>37.0</td>\n",
       "      <td>2</td>\n",
       "      <td>7442</td>\n",
       "      <td>75119381-8969-4cfe-8c31-f21ce0f7ae3a</td>\n",
       "      <td>2019/05/24 17:44:00 UTC</td>\n",
       "    </tr>\n",
       "    <tr>\n",
       "      <th>4</th>\n",
       "      <td>41.0</td>\n",
       "      <td>1</td>\n",
       "      <td>7442</td>\n",
       "      <td>75119381-8969-4cfe-8c31-f21ce0f7ae3a</td>\n",
       "      <td>2019/05/24 17:44:00 UTC</td>\n",
       "    </tr>\n",
       "  </tbody>\n",
       "</table>\n",
       "</div>"
      ],
      "text/plain": [
       "   missingSeconds  frequency  totalSeconds  \\\n",
       "0             0.0       4149          4149   \n",
       "1             0.0       6525          7442   \n",
       "2            27.0          1          7442   \n",
       "3            37.0          2          7442   \n",
       "4            41.0          1          7442   \n",
       "\n",
       "                              athleteID             activityDate  \n",
       "0  75119381-8969-4cfe-8c31-f21ce0f7ae3a  2019/11/02 12:45:00 UTC  \n",
       "1  75119381-8969-4cfe-8c31-f21ce0f7ae3a  2019/05/24 17:44:00 UTC  \n",
       "2  75119381-8969-4cfe-8c31-f21ce0f7ae3a  2019/05/24 17:44:00 UTC  \n",
       "3  75119381-8969-4cfe-8c31-f21ce0f7ae3a  2019/05/24 17:44:00 UTC  \n",
       "4  75119381-8969-4cfe-8c31-f21ce0f7ae3a  2019/05/24 17:44:00 UTC  "
      ]
     },
     "execution_count": 11,
     "metadata": {},
     "output_type": "execute_result"
    }
   ],
   "source": [
    "df_missingness.head()"
   ]
  },
  {
   "cell_type": "code",
   "execution_count": null,
   "metadata": {},
   "outputs": [
    {
     "data": {
      "text/html": [
       "<div>\n",
       "<style scoped>\n",
       "    .dataframe tbody tr th:only-of-type {\n",
       "        vertical-align: middle;\n",
       "    }\n",
       "\n",
       "    .dataframe tbody tr th {\n",
       "        vertical-align: top;\n",
       "    }\n",
       "\n",
       "    .dataframe thead th {\n",
       "        text-align: right;\n",
       "    }\n",
       "</style>\n",
       "<table border=\"1\" class=\"dataframe\">\n",
       "  <thead>\n",
       "    <tr style=\"text-align: right;\">\n",
       "      <th></th>\n",
       "      <th>missingSeconds</th>\n",
       "      <th>frequency</th>\n",
       "    </tr>\n",
       "  </thead>\n",
       "  <tbody>\n",
       "    <tr>\n",
       "      <th>0</th>\n",
       "      <td>-1.0</td>\n",
       "      <td>120</td>\n",
       "    </tr>\n",
       "    <tr>\n",
       "      <th>1</th>\n",
       "      <td>0.0</td>\n",
       "      <td>2413911</td>\n",
       "    </tr>\n",
       "    <tr>\n",
       "      <th>2</th>\n",
       "      <td>1.0</td>\n",
       "      <td>2582</td>\n",
       "    </tr>\n",
       "    <tr>\n",
       "      <th>3</th>\n",
       "      <td>2.0</td>\n",
       "      <td>161</td>\n",
       "    </tr>\n",
       "    <tr>\n",
       "      <th>4</th>\n",
       "      <td>3.0</td>\n",
       "      <td>129</td>\n",
       "    </tr>\n",
       "  </tbody>\n",
       "</table>\n",
       "</div>"
      ],
      "text/plain": [
       "   missingSeconds  frequency\n",
       "0            -1.0        120\n",
       "1             0.0    2413911\n",
       "2             1.0       2582\n",
       "3             2.0        161\n",
       "4             3.0        129"
      ]
     },
     "execution_count": 12,
     "metadata": {},
     "output_type": "execute_result"
    }
   ],
   "source": [
    "# Group by 'missingSeconds' and sum the 'frequency' column to create df_missingness_summary\n",
    "df_missingness_summary = (\n",
    "    df_missingness.groupby(\"missingSeconds\")[\"frequency\"].sum().reset_index()\n",
    ")\n",
    "df_missingness_summary.head()"
   ]
  },
  {
   "cell_type": "code",
   "execution_count": null,
   "metadata": {},
   "outputs": [],
   "source": [
    "df_missingness_summary.to_csv(r\"data\\processed\\df_missingness.csv\", index=False)"
   ]
  },
  {
   "cell_type": "code",
   "execution_count": null,
   "metadata": {},
   "outputs": [],
   "source": [
    "# Total seconds analysed\n",
    "\n",
    "df_temp = df_missingness[[\"activityDate\", \"totalSeconds\"]].drop_duplicates()\n",
    "totalSeconds = sum(df_temp[\"totalSeconds\"])"
   ]
  },
  {
   "cell_type": "code",
   "execution_count": 25,
   "metadata": {},
   "outputs": [
    {
     "data": {
      "text/plain": [
       "2757990"
      ]
     },
     "execution_count": 25,
     "metadata": {},
     "output_type": "execute_result"
    }
   ],
   "source": [
    "totalSeconds"
   ]
  }
 ],
 "metadata": {
  "kernelspec": {
   "display_name": "golden-cheetah",
   "language": "python",
   "name": "python3"
  },
  "language_info": {
   "codemirror_mode": {
    "name": "ipython",
    "version": 3
   },
   "file_extension": ".py",
   "mimetype": "text/x-python",
   "name": "python",
   "nbconvert_exporter": "python",
   "pygments_lexer": "ipython3",
   "version": "3.12.8"
  }
 },
 "nbformat": 4,
 "nbformat_minor": 2
}
