{
 "cells": [
  {
   "cell_type": "markdown",
   "metadata": {},
   "source": [
    "# Athlete Filtering"
   ]
  },
  {
   "cell_type": "markdown",
   "metadata": {},
   "source": [
    "*IMPORTANT: This notebook uses the **..\\data\\processed\\athletes_overview.csv** file created by the **..\\src\\data\\athletes-overview.py** script. Make sure that it exists before running this notebook.*"
   ]
  },
  {
   "cell_type": "markdown",
   "metadata": {},
   "source": [
    "This notebook aims to filter the entire GoldenCheetah database to select athletes for further analysis. We are interested in selecting athletes who have been active for a substantial duration and ride frequently.\n",
    "\n",
    "Our current filtering criteria are:\n",
    "1.  $\\text{duration} \\geq 183 \\text{ days}$\n",
    "2. $0.5 \\text{ rides/day} \\leq \\text{frequency} \\leq 1.1 \\text{ rides/day}$"
   ]
  },
  {
   "cell_type": "code",
   "execution_count": 68,
   "metadata": {},
   "outputs": [],
   "source": [
    "# Importing the required libraries\n",
    "import pandas as pd"
   ]
  },
  {
   "cell_type": "code",
   "execution_count": 69,
   "metadata": {},
   "outputs": [],
   "source": [
    "# Reading the data from the file\n",
    "df = pd.read_csv(r\"..\\data\\processed\\athletes_overview.csv\")"
   ]
  },
  {
   "cell_type": "code",
   "execution_count": 70,
   "metadata": {},
   "outputs": [
    {
     "name": "stdout",
     "output_type": "stream",
     "text": [
      "<class 'pandas.core.frame.DataFrame'>\n",
      "RangeIndex: 6576 entries, 0 to 6575\n",
      "Data columns (total 6 columns):\n",
      " #   Column         Non-Null Count  Dtype  \n",
      "---  ------         --------------  -----  \n",
      " 0   id             6576 non-null   object \n",
      " 1   gender         6576 non-null   object \n",
      " 2   yob            6576 non-null   int64  \n",
      " 3   numberOfRides  6576 non-null   int64  \n",
      " 4   duration       6576 non-null   int64  \n",
      " 5   rideFrequency  6576 non-null   float64\n",
      "dtypes: float64(1), int64(3), object(2)\n",
      "memory usage: 308.4+ KB\n"
     ]
    }
   ],
   "source": [
    "# Displaying dataframe information\n",
    "df.info()"
   ]
  },
  {
   "cell_type": "code",
   "execution_count": 71,
   "metadata": {},
   "outputs": [],
   "source": [
    "# Applying filtering criteria to the dataframe\n",
    "df = df.loc[df[\"duration\"] >= 183].reset_index(drop=True)\n",
    "df = df.loc[(df[\"rideFrequency\"] >= 0.5) & (df[\"rideFrequency\"] <= 1.1)].reset_index(\n",
    "    drop=True\n",
    ")"
   ]
  },
  {
   "cell_type": "code",
   "execution_count": 72,
   "metadata": {},
   "outputs": [
    {
     "name": "stdout",
     "output_type": "stream",
     "text": [
      "<class 'pandas.core.frame.DataFrame'>\n",
      "RangeIndex: 1256 entries, 0 to 1255\n",
      "Data columns (total 6 columns):\n",
      " #   Column         Non-Null Count  Dtype  \n",
      "---  ------         --------------  -----  \n",
      " 0   id             1256 non-null   object \n",
      " 1   gender         1256 non-null   object \n",
      " 2   yob            1256 non-null   int64  \n",
      " 3   numberOfRides  1256 non-null   int64  \n",
      " 4   duration       1256 non-null   int64  \n",
      " 5   rideFrequency  1256 non-null   float64\n",
      "dtypes: float64(1), int64(3), object(2)\n",
      "memory usage: 59.0+ KB\n"
     ]
    }
   ],
   "source": [
    "# Displaying filtered dataframe information\n",
    "df.info()"
   ]
  },
  {
   "cell_type": "code",
   "execution_count": 73,
   "metadata": {},
   "outputs": [],
   "source": [
    "# Saving the filtered dataframe to a csv file\n",
    "df.to_csv(r\"..\\data\\interim\\athletes_overview_filtered.csv\", index=False)"
   ]
  },
  {
   "cell_type": "markdown",
   "metadata": {},
   "source": [
    "# Female Focus\n",
    "\n",
    "Exploring number of females in the filtered dataframe"
   ]
  },
  {
   "cell_type": "code",
   "execution_count": 74,
   "metadata": {},
   "outputs": [
    {
     "name": "stdout",
     "output_type": "stream",
     "text": [
      "There are 35 females in the filtered dataframe.\n"
     ]
    }
   ],
   "source": [
    "# Counting the number of females in the filtered dataframe\n",
    "no_females = len(df.loc[df[\"gender\"] == \"F\"])\n",
    "print(f\"There are {no_females} females in the filtered dataframe.\")"
   ]
  }
 ],
 "metadata": {
  "kernelspec": {
   "display_name": "golden-cheetah",
   "language": "python",
   "name": "python3"
  },
  "language_info": {
   "codemirror_mode": {
    "name": "ipython",
    "version": 3
   },
   "file_extension": ".py",
   "mimetype": "text/x-python",
   "name": "python",
   "nbconvert_exporter": "python",
   "pygments_lexer": "ipython3",
   "version": "3.12.8"
  }
 },
 "nbformat": 4,
 "nbformat_minor": 2
}
