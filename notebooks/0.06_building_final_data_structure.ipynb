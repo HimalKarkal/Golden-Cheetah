{
 "cells": [
  {
   "cell_type": "markdown",
   "id": "fd511d28",
   "metadata": {},
   "source": [
    "# Building Final Data Structure\n",
    "\n",
    "In this notebook, I will build my final data structure for the selected athletes filteres from the athletes_overview CSV file using the riding frequency and duration active criteria. First, I will re-run my hr_max and hr_min calculations for the athletes that were filtered out for having an extremely high hr_max using the median based function. I will then select those athletes with plausible HR readings. "
   ]
  },
  {
   "cell_type": "code",
   "execution_count": 1,
   "id": "e8f6a039",
   "metadata": {},
   "outputs": [],
   "source": [
    "# Directory change\n",
    "# RUN ONCE PER SESSION\n",
    "import os\n",
    "\n",
    "os.chdir(r\"..\")"
   ]
  },
  {
   "cell_type": "markdown",
   "id": "d11f37fd",
   "metadata": {},
   "source": [
    "## 1. Re-running HR min and max script"
   ]
  },
  {
   "cell_type": "code",
   "execution_count": 2,
   "id": "41c3bf61",
   "metadata": {},
   "outputs": [],
   "source": [
    "# Imports\n",
    "import polars as pl\n",
    "from joblib import Parallel, delayed\n",
    "from src.data import Athlete\n"
   ]
  },
  {
   "cell_type": "code",
   "execution_count": 3,
   "id": "577b5479",
   "metadata": {},
   "outputs": [],
   "source": [
    "# Loading list of athletes selected initially\n",
    "df_females = pl.read_csv(r\"data\\interim\\df_females.csv\")\n",
    "df_males = pl.read_csv(r\"data\\interim\\df_males.csv\")\n",
    "\n",
    "df_athletes = pl.concat([df_females, df_males])"
   ]
  },
  {
   "cell_type": "code",
   "execution_count": 4,
   "id": "886d8cd5",
   "metadata": {},
   "outputs": [],
   "source": [
    "# Defining processor function for parallel processing of HR min and max\n",
    "def processor(row):\n",
    "    # Get athlete id from dataframe and create an athlete object\n",
    "    athlete = Athlete(row[\"id\"])\n",
    "\n",
    "    # Calculate HR min and max for athlete\n",
    "    athlete.get_hr_min_max()\n",
    "\n",
    "    # Add hr_min and hr_max to row and create a new polars dataframe\n",
    "    row[\"max_hr\"] = athlete.max_hr\n",
    "    row[\"min_hr\"] = athlete.min_hr\n",
    "\n",
    "    output_df = pl.DataFrame(row)\n",
    "\n",
    "    return output_df"
   ]
  },
  {
   "cell_type": "code",
   "execution_count": 5,
   "id": "8adce3a3",
   "metadata": {},
   "outputs": [],
   "source": [
    "# Getting min and max HRs for all athletes\n",
    "\n",
    "output_list = Parallel(n_jobs=-1)(\n",
    "    delayed(processor)(row) for row in df_athletes.iter_rows(named=True)\n",
    ")"
   ]
  },
  {
   "cell_type": "code",
   "execution_count": 6,
   "id": "85e03e81",
   "metadata": {},
   "outputs": [],
   "source": [
    "df_athletes = pl.concat(output_list)"
   ]
  },
  {
   "cell_type": "code",
   "execution_count": 12,
   "id": "51710604",
   "metadata": {},
   "outputs": [
    {
     "data": {
      "text/html": [
       "<div><style>\n",
       ".dataframe > thead > tr,\n",
       ".dataframe > tbody > tr {\n",
       "  text-align: right;\n",
       "  white-space: pre-wrap;\n",
       "}\n",
       "</style>\n",
       "<small>shape: (10, 8)</small><table border=\"1\" class=\"dataframe\"><thead><tr><th>id</th><th>gender</th><th>yob</th><th>numberOfRides</th><th>duration</th><th>rideFrequency</th><th>max_hr</th><th>min_hr</th></tr><tr><td>str</td><td>str</td><td>i64</td><td>i64</td><td>i64</td><td>f64</td><td>f64</td><td>f64</td></tr></thead><tbody><tr><td>&quot;09407f03-8a99-499c-9830-5c657b…</td><td>&quot;F&quot;</td><td>1995</td><td>121</td><td>240</td><td>0.504167</td><td>null</td><td>null</td></tr><tr><td>&quot;17c30fad-f9f1-452f-afea-16c811…</td><td>&quot;M&quot;</td><td>1997</td><td>342</td><td>539</td><td>0.634508</td><td>null</td><td>null</td></tr><tr><td>&quot;74114d44-6c7f-4b11-a9c5-ba33f2…</td><td>&quot;M&quot;</td><td>1967</td><td>872</td><td>1732</td><td>0.503464</td><td>214.0</td><td>62.0</td></tr><tr><td>&quot;a1c8b721-1490-4b9f-8bae-65694e…</td><td>&quot;M&quot;</td><td>1965</td><td>921</td><td>1696</td><td>0.543042</td><td>204.95</td><td>43.15242</td></tr><tr><td>&quot;3785483e-f809-45e7-8dcf-95cceb…</td><td>&quot;F&quot;</td><td>2002</td><td>638</td><td>1023</td><td>0.623656</td><td>203.0</td><td>67.0</td></tr><tr><td>&quot;5ae846a2-fb61-4553-a41f-99db55…</td><td>&quot;M&quot;</td><td>2000</td><td>461</td><td>448</td><td>1.029018</td><td>203.0</td><td>42.0</td></tr><tr><td>&quot;5d9be2e9-fe18-46b0-83d3-ff3c4a…</td><td>&quot;M&quot;</td><td>1973</td><td>276</td><td>375</td><td>0.736</td><td>203.0</td><td>52.0</td></tr><tr><td>&quot;a0631b3a-c8cb-4e7f-949e-d102c6…</td><td>&quot;F&quot;</td><td>1997</td><td>1562</td><td>2184</td><td>0.715201</td><td>202.0</td><td>56.0</td></tr><tr><td>&quot;f3771ea1-af65-4b36-90ad-6ffb5a…</td><td>&quot;F&quot;</td><td>2002</td><td>743</td><td>1298</td><td>0.572419</td><td>201.0</td><td>91.0</td></tr><tr><td>&quot;2f9d34ca-81a9-40be-babb-0ae4e2…</td><td>&quot;M&quot;</td><td>2000</td><td>2128</td><td>2457</td><td>0.866097</td><td>198.1</td><td>44.0</td></tr></tbody></table></div>"
      ],
      "text/plain": [
       "shape: (10, 8)\n",
       "┌───────────────────┬────────┬──────┬───────────────┬──────────┬───────────────┬────────┬──────────┐\n",
       "│ id                ┆ gender ┆ yob  ┆ numberOfRides ┆ duration ┆ rideFrequency ┆ max_hr ┆ min_hr   │\n",
       "│ ---               ┆ ---    ┆ ---  ┆ ---           ┆ ---      ┆ ---           ┆ ---    ┆ ---      │\n",
       "│ str               ┆ str    ┆ i64  ┆ i64           ┆ i64      ┆ f64           ┆ f64    ┆ f64      │\n",
       "╞═══════════════════╪════════╪══════╪═══════════════╪══════════╪═══════════════╪════════╪══════════╡\n",
       "│ 09407f03-8a99-499 ┆ F      ┆ 1995 ┆ 121           ┆ 240      ┆ 0.504167      ┆ null   ┆ null     │\n",
       "│ c-9830-5c657b…    ┆        ┆      ┆               ┆          ┆               ┆        ┆          │\n",
       "│ 17c30fad-f9f1-452 ┆ M      ┆ 1997 ┆ 342           ┆ 539      ┆ 0.634508      ┆ null   ┆ null     │\n",
       "│ f-afea-16c811…    ┆        ┆      ┆               ┆          ┆               ┆        ┆          │\n",
       "│ 74114d44-6c7f-4b1 ┆ M      ┆ 1967 ┆ 872           ┆ 1732     ┆ 0.503464      ┆ 214.0  ┆ 62.0     │\n",
       "│ 1-a9c5-ba33f2…    ┆        ┆      ┆               ┆          ┆               ┆        ┆          │\n",
       "│ a1c8b721-1490-4b9 ┆ M      ┆ 1965 ┆ 921           ┆ 1696     ┆ 0.543042      ┆ 204.95 ┆ 43.15242 │\n",
       "│ f-8bae-65694e…    ┆        ┆      ┆               ┆          ┆               ┆        ┆          │\n",
       "│ 3785483e-f809-45e ┆ F      ┆ 2002 ┆ 638           ┆ 1023     ┆ 0.623656      ┆ 203.0  ┆ 67.0     │\n",
       "│ 7-8dcf-95cceb…    ┆        ┆      ┆               ┆          ┆               ┆        ┆          │\n",
       "│ 5ae846a2-fb61-455 ┆ M      ┆ 2000 ┆ 461           ┆ 448      ┆ 1.029018      ┆ 203.0  ┆ 42.0     │\n",
       "│ 3-a41f-99db55…    ┆        ┆      ┆               ┆          ┆               ┆        ┆          │\n",
       "│ 5d9be2e9-fe18-46b ┆ M      ┆ 1973 ┆ 276           ┆ 375      ┆ 0.736         ┆ 203.0  ┆ 52.0     │\n",
       "│ 0-83d3-ff3c4a…    ┆        ┆      ┆               ┆          ┆               ┆        ┆          │\n",
       "│ a0631b3a-c8cb-4e7 ┆ F      ┆ 1997 ┆ 1562          ┆ 2184     ┆ 0.715201      ┆ 202.0  ┆ 56.0     │\n",
       "│ f-949e-d102c6…    ┆        ┆      ┆               ┆          ┆               ┆        ┆          │\n",
       "│ f3771ea1-af65-4b3 ┆ F      ┆ 2002 ┆ 743           ┆ 1298     ┆ 0.572419      ┆ 201.0  ┆ 91.0     │\n",
       "│ 6-90ad-6ffb5a…    ┆        ┆      ┆               ┆          ┆               ┆        ┆          │\n",
       "│ 2f9d34ca-81a9-40b ┆ M      ┆ 2000 ┆ 2128          ┆ 2457     ┆ 0.866097      ┆ 198.1  ┆ 44.0     │\n",
       "│ e-babb-0ae4e2…    ┆        ┆      ┆               ┆          ┆               ┆        ┆          │\n",
       "└───────────────────┴────────┴──────┴───────────────┴──────────┴───────────────┴────────┴──────────┘"
      ]
     },
     "execution_count": 12,
     "metadata": {},
     "output_type": "execute_result"
    }
   ],
   "source": [
    "df_athletes.sort(by=\"max_hr\", descending=True).head(10)"
   ]
  },
  {
   "cell_type": "code",
   "execution_count": 8,
   "id": "483bb9ca",
   "metadata": {},
   "outputs": [],
   "source": [
    "df_athletes.write_csv(r\"data\\processed\\df_athletes_hrs_updated.csv\")"
   ]
  },
  {
   "cell_type": "markdown",
   "id": "22231bf2",
   "metadata": {},
   "source": [
    "## 2. Calculating HRR, MMP, and TRIMP\n",
    "I will calculate HRR, MMP, and TRIMP for all athletes in the above dataframe."
   ]
  },
  {
   "cell_type": "code",
   "execution_count": 2,
   "id": "15cfdc96",
   "metadata": {},
   "outputs": [],
   "source": [
    "# Imports\n",
    "import polars as pl\n",
    "from joblib import Parallel, delayed\n",
    "from src.data import Athlete"
   ]
  },
  {
   "cell_type": "code",
   "execution_count": 3,
   "id": "b050a5ea",
   "metadata": {},
   "outputs": [],
   "source": [
    "df = pl.read_csv(r\"data\\processed\\df_athletes_hrs_updated.csv\")\n",
    "\n",
    "# Filter out athletes with no heart rate data\n",
    "df = df.filter(\n",
    "    pl.col(\"max_hr\").is_not_null(),\n",
    "    pl.col(\"min_hr\").is_not_null(),\n",
    ")"
   ]
  },
  {
   "cell_type": "code",
   "execution_count": 4,
   "id": "7d2736fc",
   "metadata": {},
   "outputs": [],
   "source": [
    "# Defining processor function for parallel processing\n",
    "def processor(row):\n",
    "    # Get athlete id from dataframe and create an athlete object\n",
    "    athlete = Athlete(row[\"id\"])\n",
    "    athlete.max_hr = row[\"max_hr\"]\n",
    "    athlete.min_hr = row[\"min_hr\"]\n",
    "\n",
    "    # Calculating HRR, MMP, and TRIMP\n",
    "    df_hrr = athlete.process_hrr()\n",
    "    df_mmp = athlete.process_mmp(0.85, 4)\n",
    "    df_trimp = athlete.process_trimp()\n",
    "\n",
    "    # Returning output\n",
    "    return [df_hrr, df_mmp, df_trimp]"
   ]
  },
  {
   "cell_type": "code",
   "execution_count": 5,
   "id": "d84ad99d",
   "metadata": {},
   "outputs": [],
   "source": [
    "# Processing all activities in parallel\n",
    "\n",
    "output_list = Parallel(n_jobs=-1)(\n",
    "    delayed(processor)(row) for row in df.iter_rows(named=True)\n",
    ")"
   ]
  },
  {
   "cell_type": "code",
   "execution_count": 6,
   "id": "4df79e16",
   "metadata": {},
   "outputs": [],
   "source": [
    "hrr_list = [athlete[0] for athlete in output_list]\n",
    "mmp_list = [athlete[1] for athlete in output_list]\n",
    "trimp_list = [athlete[2] for athlete in output_list]"
   ]
  },
  {
   "cell_type": "code",
   "execution_count": 7,
   "id": "8c892d72",
   "metadata": {},
   "outputs": [],
   "source": [
    "df_hrr = pl.concat(hrr_list)\n",
    "df_mmp = pl.concat(mmp_list)\n",
    "df_trimp = pl.concat(trimp_list)"
   ]
  },
  {
   "cell_type": "code",
   "execution_count": 8,
   "id": "c0889411",
   "metadata": {},
   "outputs": [],
   "source": [
    "# Saving dataframes to interim folder\n",
    "df_hrr.write_csv(r\"data\\interim\\df_hrr.csv\")\n",
    "df_mmp.write_csv(r\"data\\interim\\df_mmp.csv\")\n",
    "df_trimp.write_csv(r\"data\\interim\\df_trimp.csv\")"
   ]
  },
  {
   "cell_type": "code",
   "execution_count": null,
   "id": "db5ae659",
   "metadata": {},
   "outputs": [],
   "source": [
    "# Chaining the join operations to merge the dataframes\n",
    "df_hrr_mmp = (\n",
    "    df_hrr.join(df_mmp, on=[\"athlete_id\", \"gender\", \"week_no\"], how=\"full\")\n",
    "    .with_columns(\n",
    "        pl.col(\"athlete_id\").fill_null(pl.col(\"athlete_id_right\")),\n",
    "        pl.col(\"gender\").fill_null(pl.col(\"gender_right\")),\n",
    "        pl.col(\"week_no\").fill_null(pl.col(\"week_no_right\")),\n",
    "    )\n",
    "    .drop([\"athlete_id_right\", \"gender_right\", \"week_no_right\"])\n",
    ")\n",
    "\n",
    "df_merged = (\n",
    "    df_hrr_mmp.join(df_trimp, on=[\"athlete_id\", \"gender\", \"week_no\"], how=\"full\")\n",
    "    .with_columns(\n",
    "        pl.col(\"athlete_id\").fill_null(pl.col(\"athlete_id_right\")),\n",
    "        pl.col(\"gender\").fill_null(pl.col(\"gender_right\")),\n",
    "        pl.col(\"week_no\").fill_null(pl.col(\"week_no_right\")),\n",
    "    )\n",
    "    .drop([\"athlete_id_right\", \"gender_right\", \"week_no_right\"])\n",
    ")"
   ]
  },
  {
   "cell_type": "code",
   "execution_count": 56,
   "id": "f7f2b1c8",
   "metadata": {},
   "outputs": [
    {
     "data": {
      "text/html": [
       "<div><style>\n",
       ".dataframe > thead > tr,\n",
       ".dataframe > tbody > tr {\n",
       "  text-align: right;\n",
       "  white-space: pre-wrap;\n",
       "}\n",
       "</style>\n",
       "<small>shape: (9, 15)</small><table border=\"1\" class=\"dataframe\"><thead><tr><th>statistic</th><th>athlete_id</th><th>gender</th><th>week_no</th><th>activity_id</th><th>date</th><th>hrr_window_start_secs</th><th>hrr_window_end_secs</th><th>HRR(30)</th><th>activity_id_right</th><th>date_right</th><th>mmp_window_start_secs</th><th>mmp_window_end_secs</th><th>maximal_mean_power</th><th>total_weekly_trimp</th></tr><tr><td>str</td><td>str</td><td>str</td><td>f64</td><td>str</td><td>str</td><td>f64</td><td>f64</td><td>f64</td><td>str</td><td>str</td><td>f64</td><td>f64</td><td>f64</td><td>f64</td></tr></thead><tbody><tr><td>&quot;count&quot;</td><td>&quot;44430&quot;</td><td>&quot;44430&quot;</td><td>44430.0</td><td>&quot;30361&quot;</td><td>&quot;30361&quot;</td><td>30361.0</td><td>30361.0</td><td>30361.0</td><td>&quot;40911&quot;</td><td>&quot;40911&quot;</td><td>40911.0</td><td>40911.0</td><td>40911.0</td><td>44430.0</td></tr><tr><td>&quot;null_count&quot;</td><td>&quot;0&quot;</td><td>&quot;0&quot;</td><td>0.0</td><td>&quot;14069&quot;</td><td>&quot;14069&quot;</td><td>14069.0</td><td>14069.0</td><td>14069.0</td><td>&quot;3519&quot;</td><td>&quot;3519&quot;</td><td>3519.0</td><td>3519.0</td><td>3519.0</td><td>0.0</td></tr><tr><td>&quot;mean&quot;</td><td>null</td><td>null</td><td>87.993248</td><td>null</td><td>&quot;2018-05-02 01:48:27.446592&quot;</td><td>6804.885511</td><td>6833.885511</td><td>27.229736</td><td>null</td><td>&quot;2018-04-16 23:54:18.923859&quot;</td><td>5352.093691</td><td>5592.093691</td><td>227.9396</td><td>778.016799</td></tr><tr><td>&quot;std&quot;</td><td>null</td><td>null</td><td>76.085869</td><td>null</td><td>null</td><td>6398.007095</td><td>6398.007095</td><td>13.355365</td><td>null</td><td>null</td><td>5791.957865</td><td>5791.957865</td><td>59.964235</td><td>352.006195</td></tr><tr><td>&quot;min&quot;</td><td>&quot;01843f3a-8883-4a76-a60f-223c92…</td><td>&quot;F&quot;</td><td>-95.0</td><td>&quot;2011_08_23_17_36_12.csv&quot;</td><td>&quot;2011-08-23 15:36:12&quot;</td><td>11.0</td><td>40.0</td><td>0.0</td><td>&quot;2011_03_09_17_14_02.csv&quot;</td><td>&quot;2011-03-09 16:14:02&quot;</td><td>0.0</td><td>240.0</td><td>0.0</td><td>0.030264</td></tr><tr><td>&quot;25%&quot;</td><td>null</td><td>null</td><td>30.0</td><td>null</td><td>&quot;2017-08-23 14:12:19&quot;</td><td>2514.0</td><td>2543.0</td><td>19.0</td><td>null</td><td>&quot;2017-07-30 07:29:48&quot;</td><td>1602.0</td><td>1842.0</td><td>190.745833</td><td>527.553196</td></tr><tr><td>&quot;50%&quot;</td><td>null</td><td>null</td><td>69.0</td><td>null</td><td>&quot;2018-06-17 14:06:43&quot;</td><td>4973.0</td><td>5002.0</td><td>27.0</td><td>null</td><td>&quot;2018-06-06 14:49:14&quot;</td><td>3501.0</td><td>3741.0</td><td>225.4</td><td>743.576099</td></tr><tr><td>&quot;75%&quot;</td><td>null</td><td>null</td><td>119.0</td><td>null</td><td>&quot;2019-05-02 03:26:20&quot;</td><td>9129.0</td><td>9158.0</td><td>35.0</td><td>null</td><td>&quot;2019-04-20 03:36:15&quot;</td><td>7121.0</td><td>7361.0</td><td>267.158333</td><td>1011.716497</td></tr><tr><td>&quot;max&quot;</td><td>&quot;fe4bcccf-399f-4cd4-b385-e3b053…</td><td>&quot;M&quot;</td><td>463.0</td><td>&quot;2020_05_01_16_02_10.csv&quot;</td><td>&quot;2020-05-01 22:02:10&quot;</td><td>101935.0</td><td>101964.0</td><td>147.0</td><td>&quot;2020_05_05_19_28_16.csv&quot;</td><td>&quot;2020-05-05 18:28:16&quot;</td><td>128539.0</td><td>128779.0</td><td>597.591667</td><td>4737.612364</td></tr></tbody></table></div>"
      ],
      "text/plain": [
       "shape: (9, 15)\n",
       "┌────────────┬────────────┬────────┬───────────┬───┬───────────┬───────────┬───────────┬───────────┐\n",
       "│ statistic  ┆ athlete_id ┆ gender ┆ week_no   ┆ … ┆ mmp_windo ┆ mmp_windo ┆ maximal_m ┆ total_wee │\n",
       "│ ---        ┆ ---        ┆ ---    ┆ ---       ┆   ┆ w_start_s ┆ w_end_sec ┆ ean_power ┆ kly_trimp │\n",
       "│ str        ┆ str        ┆ str    ┆ f64       ┆   ┆ ecs       ┆ s         ┆ ---       ┆ ---       │\n",
       "│            ┆            ┆        ┆           ┆   ┆ ---       ┆ ---       ┆ f64       ┆ f64       │\n",
       "│            ┆            ┆        ┆           ┆   ┆ f64       ┆ f64       ┆           ┆           │\n",
       "╞════════════╪════════════╪════════╪═══════════╪═══╪═══════════╪═══════════╪═══════════╪═══════════╡\n",
       "│ count      ┆ 44430      ┆ 44430  ┆ 44430.0   ┆ … ┆ 40911.0   ┆ 40911.0   ┆ 40911.0   ┆ 44430.0   │\n",
       "│ null_count ┆ 0          ┆ 0      ┆ 0.0       ┆ … ┆ 3519.0    ┆ 3519.0    ┆ 3519.0    ┆ 0.0       │\n",
       "│ mean       ┆ null       ┆ null   ┆ 87.993248 ┆ … ┆ 5352.0936 ┆ 5592.0936 ┆ 227.9396  ┆ 778.01679 │\n",
       "│            ┆            ┆        ┆           ┆   ┆ 91        ┆ 91        ┆           ┆ 9         │\n",
       "│ std        ┆ null       ┆ null   ┆ 76.085869 ┆ … ┆ 5791.9578 ┆ 5791.9578 ┆ 59.964235 ┆ 352.00619 │\n",
       "│            ┆            ┆        ┆           ┆   ┆ 65        ┆ 65        ┆           ┆ 5         │\n",
       "│ min        ┆ 01843f3a-8 ┆ F      ┆ -95.0     ┆ … ┆ 0.0       ┆ 240.0     ┆ 0.0       ┆ 0.030264  │\n",
       "│            ┆ 883-4a76-a ┆        ┆           ┆   ┆           ┆           ┆           ┆           │\n",
       "│            ┆ 60f-223c92 ┆        ┆           ┆   ┆           ┆           ┆           ┆           │\n",
       "│            ┆ …          ┆        ┆           ┆   ┆           ┆           ┆           ┆           │\n",
       "│ 25%        ┆ null       ┆ null   ┆ 30.0      ┆ … ┆ 1602.0    ┆ 1842.0    ┆ 190.74583 ┆ 527.55319 │\n",
       "│            ┆            ┆        ┆           ┆   ┆           ┆           ┆ 3         ┆ 6         │\n",
       "│ 50%        ┆ null       ┆ null   ┆ 69.0      ┆ … ┆ 3501.0    ┆ 3741.0    ┆ 225.4     ┆ 743.57609 │\n",
       "│            ┆            ┆        ┆           ┆   ┆           ┆           ┆           ┆ 9         │\n",
       "│ 75%        ┆ null       ┆ null   ┆ 119.0     ┆ … ┆ 7121.0    ┆ 7361.0    ┆ 267.15833 ┆ 1011.7164 │\n",
       "│            ┆            ┆        ┆           ┆   ┆           ┆           ┆ 3         ┆ 97        │\n",
       "│ max        ┆ fe4bcccf-3 ┆ M      ┆ 463.0     ┆ … ┆ 128539.0  ┆ 128779.0  ┆ 597.59166 ┆ 4737.6123 │\n",
       "│            ┆ 99f-4cd4-b ┆        ┆           ┆   ┆           ┆           ┆ 7         ┆ 64        │\n",
       "│            ┆ 385-e3b053 ┆        ┆           ┆   ┆           ┆           ┆           ┆           │\n",
       "│            ┆ …          ┆        ┆           ┆   ┆           ┆           ┆           ┆           │\n",
       "└────────────┴────────────┴────────┴───────────┴───┴───────────┴───────────┴───────────┴───────────┘"
      ]
     },
     "execution_count": 56,
     "metadata": {},
     "output_type": "execute_result"
    }
   ],
   "source": [
    "df_merged.describe()"
   ]
  },
  {
   "cell_type": "code",
   "execution_count": 57,
   "id": "817381f7",
   "metadata": {},
   "outputs": [],
   "source": [
    "# Removing duplicate rows\n",
    "df_merged = df_merged.with_columns(\n",
    "    pl.col(\"activity_id\").alias(\"activity_id_hrr\"),\n",
    "    pl.col(\"date\").alias(\"date_hrr\"),\n",
    "    pl.col(\"activity_id_right\").alias(\"activity_id_mmp\"),\n",
    "    pl.col(\"date_right\").alias(\"date_mmp\"),\n",
    "    pl.col(\"maximal_mean_power\").alias(\"MMP\"),\n",
    ").select(\n",
    "    [\n",
    "        \"athlete_id\",\n",
    "        \"gender\",\n",
    "        \"week_no\",\n",
    "        \"activity_id_hrr\",\n",
    "        \"date_hrr\",\n",
    "        \"hrr_window_start_secs\",\n",
    "        \"hrr_window_end_secs\",\n",
    "        \"HRR(30)\",\n",
    "        \"activity_id_mmp\",\n",
    "        \"date_mmp\",\n",
    "        \"mmp_window_start_secs\",\n",
    "        \"mmp_window_end_secs\",\n",
    "        \"MMP\",\n",
    "        \"total_weekly_trimp\",\n",
    "    ]\n",
    ")"
   ]
  },
  {
   "cell_type": "code",
   "execution_count": 58,
   "id": "55b2027d",
   "metadata": {},
   "outputs": [
    {
     "data": {
      "text/html": [
       "<div><style>\n",
       ".dataframe > thead > tr,\n",
       ".dataframe > tbody > tr {\n",
       "  text-align: right;\n",
       "  white-space: pre-wrap;\n",
       "}\n",
       "</style>\n",
       "<small>shape: (44_430, 14)</small><table border=\"1\" class=\"dataframe\"><thead><tr><th>athlete_id</th><th>gender</th><th>week_no</th><th>activity_id_hrr</th><th>date_hrr</th><th>hrr_window_start_secs</th><th>hrr_window_end_secs</th><th>HRR(30)</th><th>activity_id_mmp</th><th>date_mmp</th><th>mmp_window_start_secs</th><th>mmp_window_end_secs</th><th>MMP</th><th>total_weekly_trimp</th></tr><tr><td>str</td><td>str</td><td>i64</td><td>str</td><td>datetime[μs]</td><td>i64</td><td>i64</td><td>i64</td><td>str</td><td>datetime[μs]</td><td>i64</td><td>i64</td><td>f64</td><td>f64</td></tr></thead><tbody><tr><td>&quot;01843f3a-8883-4a76-a60f-223c92…</td><td>&quot;F&quot;</td><td>45</td><td>null</td><td>null</td><td>null</td><td>null</td><td>null</td><td>&quot;2018_05_18_13_18_17.csv&quot;</td><td>2018-05-18 20:18:17</td><td>572</td><td>812</td><td>204.208333</td><td>590.130813</td></tr><tr><td>&quot;01843f3a-8883-4a76-a60f-223c92…</td><td>&quot;F&quot;</td><td>45</td><td>null</td><td>null</td><td>null</td><td>null</td><td>null</td><td>&quot;2018_05_18_13_32_00.csv&quot;</td><td>2018-05-18 20:32:00</td><td>7</td><td>247</td><td>277.9</td><td>590.130813</td></tr><tr><td>&quot;01843f3a-8883-4a76-a60f-223c92…</td><td>&quot;F&quot;</td><td>45</td><td>null</td><td>null</td><td>null</td><td>null</td><td>null</td><td>&quot;2018_05_20_08_08_27.csv&quot;</td><td>2018-05-20 14:08:27</td><td>9224</td><td>9464</td><td>232.133333</td><td>590.130813</td></tr><tr><td>&quot;01843f3a-8883-4a76-a60f-223c92…</td><td>&quot;F&quot;</td><td>46</td><td>null</td><td>null</td><td>null</td><td>null</td><td>null</td><td>&quot;2018_05_23_11_18_03.csv&quot;</td><td>2018-05-23 17:18:03</td><td>3370</td><td>3610</td><td>245.025</td><td>494.650524</td></tr><tr><td>&quot;01843f3a-8883-4a76-a60f-223c92…</td><td>&quot;F&quot;</td><td>46</td><td>null</td><td>null</td><td>null</td><td>null</td><td>null</td><td>&quot;2018_05_23_11_18_03.csv&quot;</td><td>2018-05-23 17:18:03</td><td>7065</td><td>7305</td><td>209.279167</td><td>494.650524</td></tr><tr><td>&hellip;</td><td>&hellip;</td><td>&hellip;</td><td>&hellip;</td><td>&hellip;</td><td>&hellip;</td><td>&hellip;</td><td>&hellip;</td><td>&hellip;</td><td>&hellip;</td><td>&hellip;</td><td>&hellip;</td><td>&hellip;</td><td>&hellip;</td></tr><tr><td>&quot;d9e4e8a4-2a85-474d-867d-4d5f25…</td><td>&quot;M&quot;</td><td>124</td><td>null</td><td>null</td><td>null</td><td>null</td><td>null</td><td>null</td><td>null</td><td>null</td><td>null</td><td>null</td><td>689.977117</td></tr><tr><td>&quot;06f81197-504a-478b-a347-052d4d…</td><td>&quot;F&quot;</td><td>183</td><td>null</td><td>null</td><td>null</td><td>null</td><td>null</td><td>null</td><td>null</td><td>null</td><td>null</td><td>null</td><td>833.658667</td></tr><tr><td>&quot;091ff782-d063-4411-9f40-9b679e…</td><td>&quot;M&quot;</td><td>3</td><td>null</td><td>null</td><td>null</td><td>null</td><td>null</td><td>null</td><td>null</td><td>null</td><td>null</td><td>null</td><td>520.216961</td></tr><tr><td>&quot;7780d1e6-26b2-411e-971f-8d35c5…</td><td>&quot;M&quot;</td><td>5</td><td>null</td><td>null</td><td>null</td><td>null</td><td>null</td><td>null</td><td>null</td><td>null</td><td>null</td><td>null</td><td>596.996985</td></tr><tr><td>&quot;b4a595a3-1789-45a4-a049-5c3f26…</td><td>&quot;M&quot;</td><td>42</td><td>null</td><td>null</td><td>null</td><td>null</td><td>null</td><td>null</td><td>null</td><td>null</td><td>null</td><td>null</td><td>432.513627</td></tr></tbody></table></div>"
      ],
      "text/plain": [
       "shape: (44_430, 14)\n",
       "┌────────────┬────────┬─────────┬────────────┬───┬────────────┬────────────┬───────────┬───────────┐\n",
       "│ athlete_id ┆ gender ┆ week_no ┆ activity_i ┆ … ┆ mmp_window ┆ mmp_window ┆ MMP       ┆ total_wee │\n",
       "│ ---        ┆ ---    ┆ ---     ┆ d_hrr      ┆   ┆ _start_sec ┆ _end_secs  ┆ ---       ┆ kly_trimp │\n",
       "│ str        ┆ str    ┆ i64     ┆ ---        ┆   ┆ s          ┆ ---        ┆ f64       ┆ ---       │\n",
       "│            ┆        ┆         ┆ str        ┆   ┆ ---        ┆ i64        ┆           ┆ f64       │\n",
       "│            ┆        ┆         ┆            ┆   ┆ i64        ┆            ┆           ┆           │\n",
       "╞════════════╪════════╪═════════╪════════════╪═══╪════════════╪════════════╪═══════════╪═══════════╡\n",
       "│ 01843f3a-8 ┆ F      ┆ 45      ┆ null       ┆ … ┆ 572        ┆ 812        ┆ 204.20833 ┆ 590.13081 │\n",
       "│ 883-4a76-a ┆        ┆         ┆            ┆   ┆            ┆            ┆ 3         ┆ 3         │\n",
       "│ 60f-223c92 ┆        ┆         ┆            ┆   ┆            ┆            ┆           ┆           │\n",
       "│ …          ┆        ┆         ┆            ┆   ┆            ┆            ┆           ┆           │\n",
       "│ 01843f3a-8 ┆ F      ┆ 45      ┆ null       ┆ … ┆ 7          ┆ 247        ┆ 277.9     ┆ 590.13081 │\n",
       "│ 883-4a76-a ┆        ┆         ┆            ┆   ┆            ┆            ┆           ┆ 3         │\n",
       "│ 60f-223c92 ┆        ┆         ┆            ┆   ┆            ┆            ┆           ┆           │\n",
       "│ …          ┆        ┆         ┆            ┆   ┆            ┆            ┆           ┆           │\n",
       "│ 01843f3a-8 ┆ F      ┆ 45      ┆ null       ┆ … ┆ 9224       ┆ 9464       ┆ 232.13333 ┆ 590.13081 │\n",
       "│ 883-4a76-a ┆        ┆         ┆            ┆   ┆            ┆            ┆ 3         ┆ 3         │\n",
       "│ 60f-223c92 ┆        ┆         ┆            ┆   ┆            ┆            ┆           ┆           │\n",
       "│ …          ┆        ┆         ┆            ┆   ┆            ┆            ┆           ┆           │\n",
       "│ 01843f3a-8 ┆ F      ┆ 46      ┆ null       ┆ … ┆ 3370       ┆ 3610       ┆ 245.025   ┆ 494.65052 │\n",
       "│ 883-4a76-a ┆        ┆         ┆            ┆   ┆            ┆            ┆           ┆ 4         │\n",
       "│ 60f-223c92 ┆        ┆         ┆            ┆   ┆            ┆            ┆           ┆           │\n",
       "│ …          ┆        ┆         ┆            ┆   ┆            ┆            ┆           ┆           │\n",
       "│ 01843f3a-8 ┆ F      ┆ 46      ┆ null       ┆ … ┆ 7065       ┆ 7305       ┆ 209.27916 ┆ 494.65052 │\n",
       "│ 883-4a76-a ┆        ┆         ┆            ┆   ┆            ┆            ┆ 7         ┆ 4         │\n",
       "│ 60f-223c92 ┆        ┆         ┆            ┆   ┆            ┆            ┆           ┆           │\n",
       "│ …          ┆        ┆         ┆            ┆   ┆            ┆            ┆           ┆           │\n",
       "│ …          ┆ …      ┆ …       ┆ …          ┆ … ┆ …          ┆ …          ┆ …         ┆ …         │\n",
       "│ d9e4e8a4-2 ┆ M      ┆ 124     ┆ null       ┆ … ┆ null       ┆ null       ┆ null      ┆ 689.97711 │\n",
       "│ a85-474d-8 ┆        ┆         ┆            ┆   ┆            ┆            ┆           ┆ 7         │\n",
       "│ 67d-4d5f25 ┆        ┆         ┆            ┆   ┆            ┆            ┆           ┆           │\n",
       "│ …          ┆        ┆         ┆            ┆   ┆            ┆            ┆           ┆           │\n",
       "│ 06f81197-5 ┆ F      ┆ 183     ┆ null       ┆ … ┆ null       ┆ null       ┆ null      ┆ 833.65866 │\n",
       "│ 04a-478b-a ┆        ┆         ┆            ┆   ┆            ┆            ┆           ┆ 7         │\n",
       "│ 347-052d4d ┆        ┆         ┆            ┆   ┆            ┆            ┆           ┆           │\n",
       "│ …          ┆        ┆         ┆            ┆   ┆            ┆            ┆           ┆           │\n",
       "│ 091ff782-d ┆ M      ┆ 3       ┆ null       ┆ … ┆ null       ┆ null       ┆ null      ┆ 520.21696 │\n",
       "│ 063-4411-9 ┆        ┆         ┆            ┆   ┆            ┆            ┆           ┆ 1         │\n",
       "│ f40-9b679e ┆        ┆         ┆            ┆   ┆            ┆            ┆           ┆           │\n",
       "│ …          ┆        ┆         ┆            ┆   ┆            ┆            ┆           ┆           │\n",
       "│ 7780d1e6-2 ┆ M      ┆ 5       ┆ null       ┆ … ┆ null       ┆ null       ┆ null      ┆ 596.99698 │\n",
       "│ 6b2-411e-9 ┆        ┆         ┆            ┆   ┆            ┆            ┆           ┆ 5         │\n",
       "│ 71f-8d35c5 ┆        ┆         ┆            ┆   ┆            ┆            ┆           ┆           │\n",
       "│ …          ┆        ┆         ┆            ┆   ┆            ┆            ┆           ┆           │\n",
       "│ b4a595a3-1 ┆ M      ┆ 42      ┆ null       ┆ … ┆ null       ┆ null       ┆ null      ┆ 432.51362 │\n",
       "│ 789-45a4-a ┆        ┆         ┆            ┆   ┆            ┆            ┆           ┆ 7         │\n",
       "│ 049-5c3f26 ┆        ┆         ┆            ┆   ┆            ┆            ┆           ┆           │\n",
       "│ …          ┆        ┆         ┆            ┆   ┆            ┆            ┆           ┆           │\n",
       "└────────────┴────────┴─────────┴────────────┴───┴────────────┴────────────┴───────────┴───────────┘"
      ]
     },
     "execution_count": 58,
     "metadata": {},
     "output_type": "execute_result"
    }
   ],
   "source": [
    "df_merged"
   ]
  },
  {
   "cell_type": "code",
   "execution_count": 59,
   "id": "de3f8844",
   "metadata": {},
   "outputs": [],
   "source": [
    "# Saving df_merged to interim. This dataset has multiple rows for each week.\n",
    "\n",
    "df_merged.write_csv(r\"data\\interim\\df_merged.csv\")"
   ]
  },
  {
   "cell_type": "code",
   "execution_count": 60,
   "id": "06dee1e9",
   "metadata": {},
   "outputs": [],
   "source": [
    "# Grouping by athlete_id and week and selecting the median and 75th percentile of HRR and the maximum MMP for each week\n",
    "df_merged = (\n",
    "    df_merged.group_by([\"athlete_id\", \"gender\", \"week_no\"])\n",
    "    .agg(\n",
    "        pl.col(\"HRR(30)\").median().alias(\"50_HRR(30)\"),\n",
    "        pl.col(\"HRR(30)\").quantile(0.75).alias(\"75_HRR(30)\"),\n",
    "        pl.col(\"MMP\").max().alias(\"MMP_max\"),\n",
    "        pl.col(\"total_weekly_trimp\").first().alias(\"TRIMP\"),\n",
    "    )\n",
    "    .sort([\"athlete_id\", \"week_no\"])\n",
    ")"
   ]
  },
  {
   "cell_type": "code",
   "execution_count": 61,
   "id": "f75ac490",
   "metadata": {},
   "outputs": [
    {
     "data": {
      "text/html": [
       "<div><style>\n",
       ".dataframe > thead > tr,\n",
       ".dataframe > tbody > tr {\n",
       "  text-align: right;\n",
       "  white-space: pre-wrap;\n",
       "}\n",
       "</style>\n",
       "<small>shape: (8_011, 7)</small><table border=\"1\" class=\"dataframe\"><thead><tr><th>athlete_id</th><th>gender</th><th>week_no</th><th>50_HRR(30)</th><th>75_HRR(30)</th><th>MMP_max</th><th>TRIMP</th></tr><tr><td>str</td><td>str</td><td>i64</td><td>f64</td><td>f64</td><td>f64</td><td>f64</td></tr></thead><tbody><tr><td>&quot;01843f3a-8883-4a76-a60f-223c92…</td><td>&quot;F&quot;</td><td>-1</td><td>null</td><td>null</td><td>null</td><td>29.393435</td></tr><tr><td>&quot;01843f3a-8883-4a76-a60f-223c92…</td><td>&quot;F&quot;</td><td>1</td><td>null</td><td>null</td><td>null</td><td>372.633562</td></tr><tr><td>&quot;01843f3a-8883-4a76-a60f-223c92…</td><td>&quot;F&quot;</td><td>2</td><td>null</td><td>null</td><td>null</td><td>99.6454</td></tr><tr><td>&quot;01843f3a-8883-4a76-a60f-223c92…</td><td>&quot;F&quot;</td><td>3</td><td>null</td><td>null</td><td>null</td><td>217.230806</td></tr><tr><td>&quot;01843f3a-8883-4a76-a60f-223c92…</td><td>&quot;F&quot;</td><td>4</td><td>null</td><td>null</td><td>null</td><td>267.000822</td></tr><tr><td>&hellip;</td><td>&hellip;</td><td>&hellip;</td><td>&hellip;</td><td>&hellip;</td><td>&hellip;</td><td>&hellip;</td></tr><tr><td>&quot;fe4bcccf-399f-4cd4-b385-e3b053…</td><td>&quot;M&quot;</td><td>64</td><td>null</td><td>null</td><td>null</td><td>364.959667</td></tr><tr><td>&quot;fe4bcccf-399f-4cd4-b385-e3b053…</td><td>&quot;M&quot;</td><td>65</td><td>null</td><td>null</td><td>223.554167</td><td>458.038017</td></tr><tr><td>&quot;fe4bcccf-399f-4cd4-b385-e3b053…</td><td>&quot;M&quot;</td><td>66</td><td>null</td><td>null</td><td>240.033333</td><td>395.231501</td></tr><tr><td>&quot;fe4bcccf-399f-4cd4-b385-e3b053…</td><td>&quot;M&quot;</td><td>67</td><td>null</td><td>null</td><td>224.525</td><td>295.831958</td></tr><tr><td>&quot;fe4bcccf-399f-4cd4-b385-e3b053…</td><td>&quot;M&quot;</td><td>68</td><td>null</td><td>null</td><td>227.058333</td><td>386.782724</td></tr></tbody></table></div>"
      ],
      "text/plain": [
       "shape: (8_011, 7)\n",
       "┌───────────────────────────┬────────┬─────────┬────────────┬────────────┬────────────┬────────────┐\n",
       "│ athlete_id                ┆ gender ┆ week_no ┆ 50_HRR(30) ┆ 75_HRR(30) ┆ MMP_max    ┆ TRIMP      │\n",
       "│ ---                       ┆ ---    ┆ ---     ┆ ---        ┆ ---        ┆ ---        ┆ ---        │\n",
       "│ str                       ┆ str    ┆ i64     ┆ f64        ┆ f64        ┆ f64        ┆ f64        │\n",
       "╞═══════════════════════════╪════════╪═════════╪════════════╪════════════╪════════════╪════════════╡\n",
       "│ 01843f3a-8883-4a76-a60f-2 ┆ F      ┆ -1      ┆ null       ┆ null       ┆ null       ┆ 29.393435  │\n",
       "│ 23c92…                    ┆        ┆         ┆            ┆            ┆            ┆            │\n",
       "│ 01843f3a-8883-4a76-a60f-2 ┆ F      ┆ 1       ┆ null       ┆ null       ┆ null       ┆ 372.633562 │\n",
       "│ 23c92…                    ┆        ┆         ┆            ┆            ┆            ┆            │\n",
       "│ 01843f3a-8883-4a76-a60f-2 ┆ F      ┆ 2       ┆ null       ┆ null       ┆ null       ┆ 99.6454    │\n",
       "│ 23c92…                    ┆        ┆         ┆            ┆            ┆            ┆            │\n",
       "│ 01843f3a-8883-4a76-a60f-2 ┆ F      ┆ 3       ┆ null       ┆ null       ┆ null       ┆ 217.230806 │\n",
       "│ 23c92…                    ┆        ┆         ┆            ┆            ┆            ┆            │\n",
       "│ 01843f3a-8883-4a76-a60f-2 ┆ F      ┆ 4       ┆ null       ┆ null       ┆ null       ┆ 267.000822 │\n",
       "│ 23c92…                    ┆        ┆         ┆            ┆            ┆            ┆            │\n",
       "│ …                         ┆ …      ┆ …       ┆ …          ┆ …          ┆ …          ┆ …          │\n",
       "│ fe4bcccf-399f-4cd4-b385-e ┆ M      ┆ 64      ┆ null       ┆ null       ┆ null       ┆ 364.959667 │\n",
       "│ 3b053…                    ┆        ┆         ┆            ┆            ┆            ┆            │\n",
       "│ fe4bcccf-399f-4cd4-b385-e ┆ M      ┆ 65      ┆ null       ┆ null       ┆ 223.554167 ┆ 458.038017 │\n",
       "│ 3b053…                    ┆        ┆         ┆            ┆            ┆            ┆            │\n",
       "│ fe4bcccf-399f-4cd4-b385-e ┆ M      ┆ 66      ┆ null       ┆ null       ┆ 240.033333 ┆ 395.231501 │\n",
       "│ 3b053…                    ┆        ┆         ┆            ┆            ┆            ┆            │\n",
       "│ fe4bcccf-399f-4cd4-b385-e ┆ M      ┆ 67      ┆ null       ┆ null       ┆ 224.525    ┆ 295.831958 │\n",
       "│ 3b053…                    ┆        ┆         ┆            ┆            ┆            ┆            │\n",
       "│ fe4bcccf-399f-4cd4-b385-e ┆ M      ┆ 68      ┆ null       ┆ null       ┆ 227.058333 ┆ 386.782724 │\n",
       "│ 3b053…                    ┆        ┆         ┆            ┆            ┆            ┆            │\n",
       "└───────────────────────────┴────────┴─────────┴────────────┴────────────┴────────────┴────────────┘"
      ]
     },
     "execution_count": 61,
     "metadata": {},
     "output_type": "execute_result"
    }
   ],
   "source": [
    "df_merged"
   ]
  },
  {
   "cell_type": "code",
   "execution_count": 63,
   "id": "538fa848",
   "metadata": {},
   "outputs": [],
   "source": [
    "# This dataset has one row per week per athlete, with the median and 75th percentile of HRR and the maximum MMP for each week.\n",
    "\n",
    "df_merged.write_csv(r\"data\\processed\\final_df.csv\")"
   ]
  }
 ],
 "metadata": {
  "kernelspec": {
   "display_name": "golden-cheetah",
   "language": "python",
   "name": "python3"
  },
  "language_info": {
   "codemirror_mode": {
    "name": "ipython",
    "version": 3
   },
   "file_extension": ".py",
   "mimetype": "text/x-python",
   "name": "python",
   "nbconvert_exporter": "python",
   "pygments_lexer": "ipython3",
   "version": "3.12.8"
  }
 },
 "nbformat": 4,
 "nbformat_minor": 5
}
