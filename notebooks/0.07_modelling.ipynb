{
 "cells": [
  {
   "cell_type": "markdown",
   "id": "8b6415c9",
   "metadata": {},
   "source": [
    "# Modelling\n",
    "\n",
    "In this notebook, I will do some final data engineering before using Pycaret to compare model performance on the dataset."
   ]
  },
  {
   "cell_type": "code",
   "execution_count": 1,
   "id": "7e4aea62",
   "metadata": {},
   "outputs": [],
   "source": [
    "# CHANGING WORKING DIRECTORY\n",
    "import os\n",
    "\n",
    "os.chdir(\"..\")"
   ]
  },
  {
   "cell_type": "code",
   "execution_count": 2,
   "id": "554eddaa",
   "metadata": {},
   "outputs": [],
   "source": [
    "# Imports\n",
    "import polars as pl"
   ]
  },
  {
   "cell_type": "markdown",
   "id": "87077c54",
   "metadata": {},
   "source": [
    "\n",
    "## 1. Pre Processing\n",
    "In this section, I will encode the categorical variable of gender to a binary variable with 0 for males and 1 for females. I will add information to each row about the change in TRIMP and HRR from the previous reading. "
   ]
  },
  {
   "cell_type": "code",
   "execution_count": 3,
   "id": "b92de5cc",
   "metadata": {},
   "outputs": [],
   "source": [
    "# Loading dataset\n",
    "df = pl.read_csv(r\"data\\processed\\final_df.csv\")"
   ]
  },
  {
   "cell_type": "code",
   "execution_count": 4,
   "id": "4c9cb476",
   "metadata": {},
   "outputs": [],
   "source": [
    "# Binary encoding of gender\n",
    "df = df.with_columns((pl.col(\"gender\") == \"F\").cast(pl.Int8).alias(\"gender\"))"
   ]
  },
  {
   "cell_type": "code",
   "execution_count": 5,
   "id": "b52ff8b4",
   "metadata": {},
   "outputs": [
    {
     "data": {
      "text/html": [
       "<div><style>\n",
       ".dataframe > thead > tr,\n",
       ".dataframe > tbody > tr {\n",
       "  text-align: right;\n",
       "  white-space: pre-wrap;\n",
       "}\n",
       "</style>\n",
       "<small>shape: (8_011, 7)</small><table border=\"1\" class=\"dataframe\"><thead><tr><th>athlete_id</th><th>gender</th><th>week_no</th><th>50_HRR(30)</th><th>75_HRR(30)</th><th>MMP_max</th><th>TRIMP</th></tr><tr><td>str</td><td>i8</td><td>i64</td><td>f64</td><td>f64</td><td>f64</td><td>f64</td></tr></thead><tbody><tr><td>&quot;01843f3a-8883-4a76-a60f-223c92…</td><td>1</td><td>-1</td><td>null</td><td>null</td><td>null</td><td>29.393435</td></tr><tr><td>&quot;01843f3a-8883-4a76-a60f-223c92…</td><td>1</td><td>1</td><td>null</td><td>null</td><td>null</td><td>372.633562</td></tr><tr><td>&quot;01843f3a-8883-4a76-a60f-223c92…</td><td>1</td><td>2</td><td>null</td><td>null</td><td>null</td><td>99.6454</td></tr><tr><td>&quot;01843f3a-8883-4a76-a60f-223c92…</td><td>1</td><td>3</td><td>null</td><td>null</td><td>null</td><td>217.230806</td></tr><tr><td>&quot;01843f3a-8883-4a76-a60f-223c92…</td><td>1</td><td>4</td><td>null</td><td>null</td><td>null</td><td>267.000822</td></tr><tr><td>&hellip;</td><td>&hellip;</td><td>&hellip;</td><td>&hellip;</td><td>&hellip;</td><td>&hellip;</td><td>&hellip;</td></tr><tr><td>&quot;fe4bcccf-399f-4cd4-b385-e3b053…</td><td>0</td><td>64</td><td>null</td><td>null</td><td>null</td><td>364.959667</td></tr><tr><td>&quot;fe4bcccf-399f-4cd4-b385-e3b053…</td><td>0</td><td>65</td><td>null</td><td>null</td><td>223.554167</td><td>458.038017</td></tr><tr><td>&quot;fe4bcccf-399f-4cd4-b385-e3b053…</td><td>0</td><td>66</td><td>null</td><td>null</td><td>240.033333</td><td>395.231501</td></tr><tr><td>&quot;fe4bcccf-399f-4cd4-b385-e3b053…</td><td>0</td><td>67</td><td>null</td><td>null</td><td>224.525</td><td>295.831958</td></tr><tr><td>&quot;fe4bcccf-399f-4cd4-b385-e3b053…</td><td>0</td><td>68</td><td>null</td><td>null</td><td>227.058333</td><td>386.782724</td></tr></tbody></table></div>"
      ],
      "text/plain": [
       "shape: (8_011, 7)\n",
       "┌───────────────────────────┬────────┬─────────┬────────────┬────────────┬────────────┬────────────┐\n",
       "│ athlete_id                ┆ gender ┆ week_no ┆ 50_HRR(30) ┆ 75_HRR(30) ┆ MMP_max    ┆ TRIMP      │\n",
       "│ ---                       ┆ ---    ┆ ---     ┆ ---        ┆ ---        ┆ ---        ┆ ---        │\n",
       "│ str                       ┆ i8     ┆ i64     ┆ f64        ┆ f64        ┆ f64        ┆ f64        │\n",
       "╞═══════════════════════════╪════════╪═════════╪════════════╪════════════╪════════════╪════════════╡\n",
       "│ 01843f3a-8883-4a76-a60f-2 ┆ 1      ┆ -1      ┆ null       ┆ null       ┆ null       ┆ 29.393435  │\n",
       "│ 23c92…                    ┆        ┆         ┆            ┆            ┆            ┆            │\n",
       "│ 01843f3a-8883-4a76-a60f-2 ┆ 1      ┆ 1       ┆ null       ┆ null       ┆ null       ┆ 372.633562 │\n",
       "│ 23c92…                    ┆        ┆         ┆            ┆            ┆            ┆            │\n",
       "│ 01843f3a-8883-4a76-a60f-2 ┆ 1      ┆ 2       ┆ null       ┆ null       ┆ null       ┆ 99.6454    │\n",
       "│ 23c92…                    ┆        ┆         ┆            ┆            ┆            ┆            │\n",
       "│ 01843f3a-8883-4a76-a60f-2 ┆ 1      ┆ 3       ┆ null       ┆ null       ┆ null       ┆ 217.230806 │\n",
       "│ 23c92…                    ┆        ┆         ┆            ┆            ┆            ┆            │\n",
       "│ 01843f3a-8883-4a76-a60f-2 ┆ 1      ┆ 4       ┆ null       ┆ null       ┆ null       ┆ 267.000822 │\n",
       "│ 23c92…                    ┆        ┆         ┆            ┆            ┆            ┆            │\n",
       "│ …                         ┆ …      ┆ …       ┆ …          ┆ …          ┆ …          ┆ …          │\n",
       "│ fe4bcccf-399f-4cd4-b385-e ┆ 0      ┆ 64      ┆ null       ┆ null       ┆ null       ┆ 364.959667 │\n",
       "│ 3b053…                    ┆        ┆         ┆            ┆            ┆            ┆            │\n",
       "│ fe4bcccf-399f-4cd4-b385-e ┆ 0      ┆ 65      ┆ null       ┆ null       ┆ 223.554167 ┆ 458.038017 │\n",
       "│ 3b053…                    ┆        ┆         ┆            ┆            ┆            ┆            │\n",
       "│ fe4bcccf-399f-4cd4-b385-e ┆ 0      ┆ 66      ┆ null       ┆ null       ┆ 240.033333 ┆ 395.231501 │\n",
       "│ 3b053…                    ┆        ┆         ┆            ┆            ┆            ┆            │\n",
       "│ fe4bcccf-399f-4cd4-b385-e ┆ 0      ┆ 67      ┆ null       ┆ null       ┆ 224.525    ┆ 295.831958 │\n",
       "│ 3b053…                    ┆        ┆         ┆            ┆            ┆            ┆            │\n",
       "│ fe4bcccf-399f-4cd4-b385-e ┆ 0      ┆ 68      ┆ null       ┆ null       ┆ 227.058333 ┆ 386.782724 │\n",
       "│ 3b053…                    ┆        ┆         ┆            ┆            ┆            ┆            │\n",
       "└───────────────────────────┴────────┴─────────┴────────────┴────────────┴────────────┴────────────┘"
      ]
     },
     "execution_count": 5,
     "metadata": {},
     "output_type": "execute_result"
    }
   ],
   "source": [
    "df"
   ]
  },
  {
   "cell_type": "code",
   "execution_count": 6,
   "id": "35c7e8e5",
   "metadata": {},
   "outputs": [],
   "source": [
    "# --- 2. Define Parameters ---\n",
    "# The lookback periods in weeks\n",
    "lags = [1, 2, 4]\n",
    "# The columns you want to calculate differences for\n",
    "value_cols = [\"50_HRR(30)\", \"75_HRR(30)\", \"MMP_max\", \"TRIMP\"]\n",
    "\n",
    "# --- 3. Main Logic: Loop, Join, and Calculate ---\n",
    "\n",
    "# Start with the original dataframe\n",
    "df_with_diffs = df.clone()\n",
    "\n",
    "# Create and join the lagged data for each lag period\n",
    "for lag in lags:\n",
    "    # Create the dataframe to join with\n",
    "    df_lagged = (\n",
    "        df.select([\"athlete_id\", \"gender\", \"week_no\"] + value_cols)\n",
    "        # Key Step: Create the future week_no to join on\n",
    "        .with_columns(pl.col(\"week_no\") + lag)\n",
    "        # Rename value columns to avoid name collisions during the join\n",
    "        .rename({col: f\"{col}_lag_{lag}\" for col in value_cols})\n",
    "    )\n",
    "\n",
    "    # Join back to the main dataframe\n",
    "    df_with_diffs = df_with_diffs.join(\n",
    "        df_lagged,\n",
    "        on=[\"athlete_id\", \"gender\", \"week_no\"],\n",
    "        how=\"left\",  # Use a left join to keep all original rows\n",
    "    )\n",
    "\n",
    "# Now, calculate the differences using the new lagged columns\n",
    "diff_expressions = [\n",
    "    (pl.col(col) - pl.col(f\"{col}_lag_{lag}\")).alias(f\"{col}_diff_{lag}\")\n",
    "    for col in value_cols\n",
    "    for lag in lags\n",
    "]\n",
    "\n",
    "df = df_with_diffs.with_columns(diff_expressions)"
   ]
  },
  {
   "cell_type": "code",
   "execution_count": 7,
   "id": "40204d65",
   "metadata": {},
   "outputs": [],
   "source": [
    "# Min-Max Scaling\n",
    "# 2. Define which columns you want to scale\n",
    "cols_to_scale = [\n",
    "    \"50_HRR(30)\",\n",
    "    \"75_HRR(30)\",\n",
    "    \"MMP_max\",\n",
    "    \"TRIMP\",\n",
    "    \"50_HRR(30)_lag_1\",\n",
    "    \"50_HRR(30)_lag_2\",\n",
    "    \"50_HRR(30)_lag_4\",\n",
    "    \"75_HRR(30)_lag_1\",\n",
    "    \"75_HRR(30)_lag_2\",\n",
    "    \"75_HRR(30)_lag_4\",\n",
    "    \"MMP_max_lag_1\",\n",
    "    \"MMP_max_lag_2\",\n",
    "    \"MMP_max_lag_4\",\n",
    "    \"TRIMP_lag_1\",\n",
    "    \"TRIMP_lag_2\",\n",
    "    \"TRIMP_lag_4\",\n",
    "    \"50_HRR(30)_diff_1\",\n",
    "    \"50_HRR(30)_diff_2\",\n",
    "    \"50_HRR(30)_diff_4\",\n",
    "    \"75_HRR(30)_diff_1\",\n",
    "    \"75_HRR(30)_diff_2\",\n",
    "    \"75_HRR(30)_diff_4\",\n",
    "    \"MMP_max_diff_1\",\n",
    "    \"MMP_max_diff_2\",\n",
    "    \"MMP_max_diff_4\",\n",
    "    \"TRIMP_diff_1\",\n",
    "    \"TRIMP_diff_2\",\n",
    "    \"TRIMP_diff_4\",\n",
    "]\n",
    "\n",
    "# 3. Create a list of scaling expressions\n",
    "scaling_exprs = []\n",
    "for col_name in cols_to_scale:\n",
    "    # Define the min and max as window functions, partitioned by athlete_id\n",
    "    min_val = pl.col(col_name).min().over(\"athlete_id\")\n",
    "    max_val = pl.col(col_name).max().over(\"athlete_id\")\n",
    "\n",
    "    # Create the full expression with a robust check for division by zero\n",
    "    expr = (\n",
    "        pl.when((max_val - min_val) == 0)\n",
    "        .then(pl.lit(0.0))  # If max == min, the scaled value is 0\n",
    "        .otherwise((pl.col(col_name) - min_val) / (max_val - min_val))\n",
    "        .alias(f\"{col_name}_scaled\")  # Name the new scaled column\n",
    "    )\n",
    "    scaling_exprs.append(expr)\n",
    "\n",
    "# 4. Apply the expressions to the DataFrame in one go\n",
    "df_scaled = df.with_columns(scaling_exprs)"
   ]
  },
  {
   "cell_type": "code",
   "execution_count": 9,
   "id": "57a9fd29",
   "metadata": {},
   "outputs": [
    {
     "data": {
      "text/plain": [
       "['athlete_id',\n",
       " 'gender',\n",
       " 'week_no',\n",
       " '50_HRR(30)',\n",
       " '75_HRR(30)',\n",
       " 'MMP_max',\n",
       " 'TRIMP',\n",
       " '50_HRR(30)_lag_1',\n",
       " '75_HRR(30)_lag_1',\n",
       " 'MMP_max_lag_1',\n",
       " 'TRIMP_lag_1',\n",
       " '50_HRR(30)_lag_2',\n",
       " '75_HRR(30)_lag_2',\n",
       " 'MMP_max_lag_2',\n",
       " 'TRIMP_lag_2',\n",
       " '50_HRR(30)_lag_4',\n",
       " '75_HRR(30)_lag_4',\n",
       " 'MMP_max_lag_4',\n",
       " 'TRIMP_lag_4',\n",
       " '50_HRR(30)_diff_1',\n",
       " '50_HRR(30)_diff_2',\n",
       " '50_HRR(30)_diff_4',\n",
       " '75_HRR(30)_diff_1',\n",
       " '75_HRR(30)_diff_2',\n",
       " '75_HRR(30)_diff_4',\n",
       " 'MMP_max_diff_1',\n",
       " 'MMP_max_diff_2',\n",
       " 'MMP_max_diff_4',\n",
       " 'TRIMP_diff_1',\n",
       " 'TRIMP_diff_2',\n",
       " 'TRIMP_diff_4',\n",
       " '50_HRR(30)_scaled',\n",
       " '75_HRR(30)_scaled',\n",
       " 'MMP_max_scaled',\n",
       " 'TRIMP_scaled',\n",
       " '50_HRR(30)_lag_1_scaled',\n",
       " '50_HRR(30)_lag_2_scaled',\n",
       " '50_HRR(30)_lag_4_scaled',\n",
       " '75_HRR(30)_lag_1_scaled',\n",
       " '75_HRR(30)_lag_2_scaled',\n",
       " '75_HRR(30)_lag_4_scaled',\n",
       " 'MMP_max_lag_1_scaled',\n",
       " 'MMP_max_lag_2_scaled',\n",
       " 'MMP_max_lag_4_scaled',\n",
       " 'TRIMP_lag_1_scaled',\n",
       " 'TRIMP_lag_2_scaled',\n",
       " 'TRIMP_lag_4_scaled',\n",
       " '50_HRR(30)_diff_1_scaled',\n",
       " '50_HRR(30)_diff_2_scaled',\n",
       " '50_HRR(30)_diff_4_scaled',\n",
       " '75_HRR(30)_diff_1_scaled',\n",
       " '75_HRR(30)_diff_2_scaled',\n",
       " '75_HRR(30)_diff_4_scaled',\n",
       " 'MMP_max_diff_1_scaled',\n",
       " 'MMP_max_diff_2_scaled',\n",
       " 'MMP_max_diff_4_scaled',\n",
       " 'TRIMP_diff_1_scaled',\n",
       " 'TRIMP_diff_2_scaled',\n",
       " 'TRIMP_diff_4_scaled']"
      ]
     },
     "execution_count": 9,
     "metadata": {},
     "output_type": "execute_result"
    }
   ],
   "source": [
    "df_scaled.columns"
   ]
  },
  {
   "cell_type": "code",
   "execution_count": 10,
   "id": "daa210ea",
   "metadata": {},
   "outputs": [],
   "source": [
    "df_scaled.write_csv(r\"data\\processed\\final_df_scaled.csv\")"
   ]
  }
 ],
 "metadata": {
  "kernelspec": {
   "display_name": "golden-cheetah",
   "language": "python",
   "name": "python3"
  },
  "language_info": {
   "codemirror_mode": {
    "name": "ipython",
    "version": 3
   },
   "file_extension": ".py",
   "mimetype": "text/x-python",
   "name": "python",
   "nbconvert_exporter": "python",
   "pygments_lexer": "ipython3",
   "version": "3.12.8"
  }
 },
 "nbformat": 4,
 "nbformat_minor": 5
}
