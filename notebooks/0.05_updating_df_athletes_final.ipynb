{
 "cells": [
  {
   "cell_type": "markdown",
   "id": "8d177ccc",
   "metadata": {},
   "source": [
    "# 0.05 Updating df_athletes_final\n",
    "\n",
    "This notebook will apply the hampel filter defined locally to each athlete in df_athletes_final. It will update the current max_hrs and also add a new column for min_hrs."
   ]
  },
  {
   "cell_type": "code",
   "execution_count": 1,
   "id": "544e62a6",
   "metadata": {},
   "outputs": [],
   "source": [
    "# Change current working directory to the root directory\n",
    "import os\n",
    "\n",
    "os.chdir(\"..\")"
   ]
  },
  {
   "cell_type": "code",
   "execution_count": 2,
   "id": "a5533bc6",
   "metadata": {},
   "outputs": [],
   "source": [
    "# Imports\n",
    "import polars as pl\n",
    "from src.data import Athlete"
   ]
  },
  {
   "cell_type": "code",
   "execution_count": 4,
   "id": "30357724",
   "metadata": {},
   "outputs": [],
   "source": [
    "# Loading df_athletes_final.csv from the data directory as a polars dataframe\n",
    "\n",
    "df_athletes = pl.read_csv(r\"data\\processed\\df_athletes_final.csv\")"
   ]
  },
  {
   "cell_type": "code",
   "execution_count": 7,
   "id": "db6e205e",
   "metadata": {},
   "outputs": [
    {
     "data": {
      "text/html": [
       "<div><style>\n",
       ".dataframe > thead > tr,\n",
       ".dataframe > tbody > tr {\n",
       "  text-align: right;\n",
       "  white-space: pre-wrap;\n",
       "}\n",
       "</style>\n",
       "<small>shape: (5, 7)</small><table border=\"1\" class=\"dataframe\"><thead><tr><th>id</th><th>gender</th><th>yob</th><th>numberOfRides</th><th>duration</th><th>rideFrequency</th><th>max_hr</th></tr><tr><td>str</td><td>str</td><td>i64</td><td>i64</td><td>i64</td><td>f64</td><td>f64</td></tr></thead><tbody><tr><td>&quot;75119381-8969-4cfe-8c31-f21ce0…</td><td>&quot;M&quot;</td><td>1960</td><td>222</td><td>274</td><td>0.810219</td><td>193.0</td></tr><tr><td>&quot;3a74749c-d364-465a-8b26-47a6a5…</td><td>&quot;M&quot;</td><td>1984</td><td>131</td><td>214</td><td>0.61215</td><td>197.0</td></tr><tr><td>&quot;091ff782-d063-4411-9f40-9b679e…</td><td>&quot;M&quot;</td><td>1988</td><td>132</td><td>246</td><td>0.536585</td><td>186.0</td></tr><tr><td>&quot;d5b08556-ac8c-43b7-bd28-b37152…</td><td>&quot;M&quot;</td><td>1969</td><td>233</td><td>285</td><td>0.817544</td><td>180.0</td></tr><tr><td>&quot;a1b0ba71-e335-4fd9-8f9a-cc7b5a…</td><td>&quot;M&quot;</td><td>1971</td><td>637</td><td>763</td><td>0.834862</td><td>208.0</td></tr></tbody></table></div>"
      ],
      "text/plain": [
       "shape: (5, 7)\n",
       "┌──────────────────────────────┬────────┬──────┬───────────────┬──────────┬───────────────┬────────┐\n",
       "│ id                           ┆ gender ┆ yob  ┆ numberOfRides ┆ duration ┆ rideFrequency ┆ max_hr │\n",
       "│ ---                          ┆ ---    ┆ ---  ┆ ---           ┆ ---      ┆ ---           ┆ ---    │\n",
       "│ str                          ┆ str    ┆ i64  ┆ i64           ┆ i64      ┆ f64           ┆ f64    │\n",
       "╞══════════════════════════════╪════════╪══════╪═══════════════╪══════════╪═══════════════╪════════╡\n",
       "│ 75119381-8969-4cfe-8c31-f21c ┆ M      ┆ 1960 ┆ 222           ┆ 274      ┆ 0.810219      ┆ 193.0  │\n",
       "│ e0…                          ┆        ┆      ┆               ┆          ┆               ┆        │\n",
       "│ 3a74749c-d364-465a-8b26-47a6 ┆ M      ┆ 1984 ┆ 131           ┆ 214      ┆ 0.61215       ┆ 197.0  │\n",
       "│ a5…                          ┆        ┆      ┆               ┆          ┆               ┆        │\n",
       "│ 091ff782-d063-4411-9f40-9b67 ┆ M      ┆ 1988 ┆ 132           ┆ 246      ┆ 0.536585      ┆ 186.0  │\n",
       "│ 9e…                          ┆        ┆      ┆               ┆          ┆               ┆        │\n",
       "│ d5b08556-ac8c-43b7-bd28-b371 ┆ M      ┆ 1969 ┆ 233           ┆ 285      ┆ 0.817544      ┆ 180.0  │\n",
       "│ 52…                          ┆        ┆      ┆               ┆          ┆               ┆        │\n",
       "│ a1b0ba71-e335-4fd9-8f9a-cc7b ┆ M      ┆ 1971 ┆ 637           ┆ 763      ┆ 0.834862      ┆ 208.0  │\n",
       "│ 5a…                          ┆        ┆      ┆               ┆          ┆               ┆        │\n",
       "└──────────────────────────────┴────────┴──────┴───────────────┴──────────┴───────────────┴────────┘"
      ]
     },
     "execution_count": 7,
     "metadata": {},
     "output_type": "execute_result"
    }
   ],
   "source": [
    "df_athletes.head()"
   ]
  },
  {
   "cell_type": "code",
   "execution_count": null,
   "id": "f25b6b05",
   "metadata": {},
   "outputs": [
    {
     "name": "stdout",
     "output_type": "stream",
     "text": [
      "Athlete data loaded successfully from local storage.\n",
      "Minimum heart rate for athlete 75119381-8969-4cfe-8c31-f21ce0f7ae3a is 0.0 bpm.\n",
      "Maximum heart rate for athlete 75119381-8969-4cfe-8c31-f21ce0f7ae3a is 193.0 bpm.\n",
      "Athlete data loaded successfully from local storage.\n",
      "Minimum heart rate for athlete 3a74749c-d364-465a-8b26-47a6a58ddc55 is 61.0 bpm.\n",
      "Maximum heart rate for athlete 3a74749c-d364-465a-8b26-47a6a58ddc55 is 197.0 bpm.\n",
      "Athlete data loaded successfully from local storage.\n",
      "Minimum heart rate for athlete 091ff782-d063-4411-9f40-9b679eaf44da is 53.0 bpm.\n",
      "Maximum heart rate for athlete 091ff782-d063-4411-9f40-9b679eaf44da is 186.0 bpm.\n",
      "Athlete data loaded successfully from local storage.\n",
      "Minimum heart rate for athlete d5b08556-ac8c-43b7-bd28-b37152623424 is 59.0 bpm.\n",
      "Maximum heart rate for athlete d5b08556-ac8c-43b7-bd28-b37152623424 is 181.0 bpm.\n",
      "Athlete data loaded successfully from local storage.\n"
     ]
    },
    {
     "ename": "KeyboardInterrupt",
     "evalue": "",
     "output_type": "error",
     "traceback": [
      "\u001b[1;31m---------------------------------------------------------------------------\u001b[0m",
      "\u001b[1;31mKeyboardInterrupt\u001b[0m                         Traceback (most recent call last)",
      "Cell \u001b[1;32mIn[8], line 12\u001b[0m\n\u001b[0;32m      9\u001b[0m athlete \u001b[38;5;241m=\u001b[39m Athlete(athlete_id)\n\u001b[0;32m     11\u001b[0m \u001b[38;5;66;03m# Getting the minimum and maximum heart rate for the athlete\u001b[39;00m\n\u001b[1;32m---> 12\u001b[0m \u001b[43mathlete\u001b[49m\u001b[38;5;241;43m.\u001b[39;49m\u001b[43mget_hr_min_max\u001b[49m\u001b[43m(\u001b[49m\u001b[43m)\u001b[49m\n\u001b[0;32m     14\u001b[0m \u001b[38;5;66;03m# Updating the athlete's maximum and minimum heart rate in the dataframe\u001b[39;00m\n\u001b[0;32m     15\u001b[0m output_list\u001b[38;5;241m.\u001b[39mappend({\n\u001b[0;32m     16\u001b[0m     \u001b[38;5;124m\"\u001b[39m\u001b[38;5;124mid\u001b[39m\u001b[38;5;124m\"\u001b[39m: athlete\u001b[38;5;241m.\u001b[39mid,\n\u001b[0;32m     17\u001b[0m     \u001b[38;5;124m\"\u001b[39m\u001b[38;5;124mmin_hr\u001b[39m\u001b[38;5;124m\"\u001b[39m: athlete\u001b[38;5;241m.\u001b[39mmin_hr,\n\u001b[0;32m     18\u001b[0m     \u001b[38;5;124m\"\u001b[39m\u001b[38;5;124mmax_hr\u001b[39m\u001b[38;5;124m\"\u001b[39m: athlete\u001b[38;5;241m.\u001b[39mmax_hr\n\u001b[0;32m     19\u001b[0m })\n",
      "File \u001b[1;32mc:\\Users\\karka\\Projects\\Golden-Cheetah\\src\\data\\athlete_funcs.py:69\u001b[0m, in \u001b[0;36mAthlete.get_hr_min_max\u001b[1;34m(self)\u001b[0m\n\u001b[0;32m     65\u001b[0m hr_series \u001b[38;5;241m=\u001b[39m hampel_filter(\n\u001b[0;32m     66\u001b[0m     hr_series\u001b[38;5;241m.\u001b[39mto_list(), half_window\u001b[38;5;241m=\u001b[39m\u001b[38;5;241m10\u001b[39m, n_sigma\u001b[38;5;241m=\u001b[39m\u001b[38;5;241m3.0\u001b[39m\n\u001b[0;32m     67\u001b[0m )\n\u001b[0;32m     68\u001b[0m \u001b[38;5;66;03m# Appending the maximum heart rate from the filtered HR series to max_hr_array\u001b[39;00m\n\u001b[1;32m---> 69\u001b[0m max_hr_array \u001b[38;5;241m=\u001b[39m np\u001b[38;5;241m.\u001b[39mappend(max_hr_array, \u001b[38;5;28;43mmax\u001b[39;49m\u001b[43m(\u001b[49m\u001b[43mhr_series\u001b[49m\u001b[43m)\u001b[49m)\n\u001b[0;32m     71\u001b[0m \u001b[38;5;66;03m# Appending the minimum heart rate from the filtered HR series to min_hr_array\u001b[39;00m\n\u001b[0;32m     72\u001b[0m min_hr_array \u001b[38;5;241m=\u001b[39m np\u001b[38;5;241m.\u001b[39mappend(min_hr_array, \u001b[38;5;28mmin\u001b[39m(hr_series))\n",
      "\u001b[1;31mKeyboardInterrupt\u001b[0m: "
     ]
    }
   ],
   "source": [
    "output_list = []\n",
    "\n",
    "# Iterate through each row in the dataframe\n",
    "for row in df_athletes.iter_rows():\n",
    "    athlete_id = row[0]\n",
    "\n",
    "    # Creating an Athlete object for current athlete\n",
    "    athlete = Athlete(athlete_id)\n",
    "\n",
    "    # Getting the minimum and maximum heart rate for the athlete\n",
    "    athlete.get_hr_min_max()\n",
    "\n",
    "    # Updating the athlete's maximum and minimum heart rate in the dataframe\n",
    "    output_list.append(\n",
    "        {\"id\": athlete.id, \"min_hr\": athlete.min_hr, \"max_hr\": athlete.max_hr}\n",
    "    )"
   ]
  },
  {
   "cell_type": "code",
   "execution_count": null,
   "id": "40bfa166",
   "metadata": {},
   "outputs": [],
   "source": [
    "# 3. Create a new DataFrame from the list of processed data\n",
    "updates_df = pl.DataFrame(output_list)\n",
    "\n",
    "# 4. Update the original df_athletes DataFrame\n",
    "# The .update() method will:\n",
    "#  - Match rows based on the 'on' column (your athlete ID column).\n",
    "#  - Update values in existing columns of df_athletes (like 'max_hr') if they are present in updates_df.\n",
    "#  - Add new columns from updates_df (like 'min_hr') if they are not already in df_athletes.\n",
    "df_output = df_athletes.update(updates_df, on=\"id\")"
   ]
  }
 ],
 "metadata": {
  "kernelspec": {
   "display_name": "golden-cheetah",
   "language": "python",
   "name": "python3"
  },
  "language_info": {
   "codemirror_mode": {
    "name": "ipython",
    "version": 3
   },
   "file_extension": ".py",
   "mimetype": "text/x-python",
   "name": "python",
   "nbconvert_exporter": "python",
   "pygments_lexer": "ipython3",
   "version": "3.12.8"
  }
 },
 "nbformat": 4,
 "nbformat_minor": 5
}
